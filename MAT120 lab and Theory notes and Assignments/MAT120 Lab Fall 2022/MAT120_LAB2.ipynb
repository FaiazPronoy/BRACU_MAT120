{
  "nbformat": 4,
  "nbformat_minor": 0,
  "metadata": {
    "colab": {
      "provenance": [],
      "toc_visible": true
    },
    "kernelspec": {
      "name": "python3",
      "display_name": "Python 3"
    },
    "language_info": {
      "name": "python"
    }
  },
  "cells": [
    {
      "cell_type": "code",
      "execution_count": null,
      "metadata": {
        "colab": {
          "base_uri": "https://localhost:8080/",
          "height": 54
        },
        "id": "iwgqHHOJab--",
        "outputId": "e08ad97b-c202-43c1-cac9-814546adab3c"
      },
      "outputs": [
        {
          "output_type": "execute_result",
          "data": {
            "text/plain": [
              "x**2*exp(-x)*sin(x)/2 - x**2*exp(-x)*cos(x)/2 + x*exp(-x)*sin(x) + exp(-x)*sin(x)/2 + exp(-x)*cos(x)/2"
            ],
            "text/latex": "$\\displaystyle \\frac{x^{2} e^{- x} \\sin{\\left(x \\right)}}{2} - \\frac{x^{2} e^{- x} \\cos{\\left(x \\right)}}{2} + x e^{- x} \\sin{\\left(x \\right)} + \\frac{e^{- x} \\sin{\\left(x \\right)}}{2} + \\frac{e^{- x} \\cos{\\left(x \\right)}}{2}$"
          },
          "metadata": {},
          "execution_count": 1
        }
      ],
      "source": [
        "import sympy as smp\n",
        "import numpy as np\n",
        "x = smp.symbols(\"x\")\n",
        "f= smp.exp(-x)*(x**2)*smp.cos(x)\n",
        "smp.integrate(f,x)"
      ]
    },
    {
      "cell_type": "code",
      "source": [
        "import sympy as smp\n",
        "import numpy as np\n",
        "x = smp.symbols(\"x\")\n",
        "f=smp.sin(x)**3*smp.exp(-x)**5\n",
        "smp.integrate(f,x)"
      ],
      "metadata": {
        "colab": {
          "base_uri": "https://localhost:8080/",
          "height": 55
        },
        "id": "oJTB781tb7MH",
        "outputId": "14be56d1-1df0-42e6-b965-0f7c4aa3c3f7"
      },
      "execution_count": null,
      "outputs": [
        {
          "output_type": "execute_result",
          "data": {
            "text/plain": [
              "-40*exp(-5*x)*sin(x)**3/221 - 21*exp(-5*x)*sin(x)**2*cos(x)/221 - 15*exp(-5*x)*sin(x)*cos(x)**2/442 - 3*exp(-5*x)*cos(x)**3/442"
            ],
            "text/latex": "$\\displaystyle - \\frac{40 e^{- 5 x} \\sin^{3}{\\left(x \\right)}}{221} - \\frac{21 e^{- 5 x} \\sin^{2}{\\left(x \\right)} \\cos{\\left(x \\right)}}{221} - \\frac{15 e^{- 5 x} \\sin{\\left(x \\right)} \\cos^{2}{\\left(x \\right)}}{442} - \\frac{3 e^{- 5 x} \\cos^{3}{\\left(x \\right)}}{442}$"
          },
          "metadata": {},
          "execution_count": 1
        }
      ]
    },
    {
      "cell_type": "code",
      "source": [
        "import sympy as smp\n",
        "import numpy as np\n",
        "x = smp.symbols(\"x\")\n",
        "f=((1+x**0.5)**(1/3))/(x**0.5)\n",
        "smp.integrate(f,x)"
      ],
      "metadata": {
        "colab": {
          "base_uri": "https://localhost:8080/",
          "height": 41
        },
        "id": "6YVj11fGeTa9",
        "outputId": "3f659c39-7fef-49ac-a7b5-05f132266023"
      },
      "execution_count": null,
      "outputs": [
        {
          "output_type": "execute_result",
          "data": {
            "text/plain": [
              "1.5*(x**0.5 + 1)**1.33333333333333"
            ],
            "text/latex": "$\\displaystyle 1.5 \\left(x^{0.5} + 1\\right)^{1.33333333333333}$"
          },
          "metadata": {},
          "execution_count": 9
        }
      ]
    },
    {
      "cell_type": "code",
      "source": [
        "import sympy as smp\n",
        "import numpy as np\n",
        "x = smp.symbols(\"x\")\n",
        "f=((1+(smp.sqrt(x)))**smp.Rational(1,3))/(smp.sqrt(x))\n",
        "smp.integrate(f,x)"
      ],
      "metadata": {
        "colab": {
          "base_uri": "https://localhost:8080/",
          "height": 56
        },
        "outputId": "e250035c-0a6b-4fba-ed25-d32a573065cd",
        "id": "7pDcnm-CfyaW"
      },
      "execution_count": null,
      "outputs": [
        {
          "output_type": "execute_result",
          "data": {
            "text/plain": [
              "3*sqrt(x)*(sqrt(x) + 1)**(1/3)/2 + 3*(sqrt(x) + 1)**(1/3)/2"
            ],
            "text/latex": "$\\displaystyle \\frac{3 \\sqrt{x} \\sqrt[3]{\\sqrt{x} + 1}}{2} + \\frac{3 \\sqrt[3]{\\sqrt{x} + 1}}{2}$"
          },
          "metadata": {},
          "execution_count": 12
        }
      ]
    },
    {
      "cell_type": "code",
      "source": [
        "import sympy as smp\n",
        "import numpy as np\n",
        "x = smp.symbols(\"x\")\n",
        "f = smp.exp(x) / (smp.sqrt(smp.exp(x)+9))\n",
        "smp.integrate(f, (x, 0, smp.ln(4)))"
      ],
      "metadata": {
        "colab": {
          "base_uri": "https://localhost:8080/",
          "height": 39
        },
        "id": "pAIts1n_iACq",
        "outputId": "f003d6e1-ad9b-4bc8-ed72-061227efda7b"
      },
      "execution_count": null,
      "outputs": [
        {
          "output_type": "execute_result",
          "data": {
            "text/plain": [
              "-2*sqrt(10) + 2*sqrt(13)"
            ],
            "text/latex": "$\\displaystyle - 2 \\sqrt{10} + 2 \\sqrt{13}$"
          },
          "metadata": {},
          "execution_count": 13
        }
      ]
    },
    {
      "cell_type": "code",
      "source": [
        "import sympy as smp\n",
        "import numpy as np\n",
        "import "
      ],
      "metadata": {
        "id": "nPfC1ZZwiIch"
      },
      "execution_count": null,
      "outputs": []
    },
    {
      "cell_type": "code",
      "source": [
        "import sympy as smp\n",
        "import numpy as np\n",
        "import scipy as sp\n",
        "from scipy.integrate import quad \n",
        "\n",
        "x = smp.symbols('x', real=True)\n",
        "f2 = (smp.asin(2*x))/(1+(x**2))\n",
        "smp.integrate(f2,(x, 0, smp.oo)).evalf()"
      ],
      "metadata": {
        "colab": {
          "base_uri": "https://localhost:8080/",
          "height": 39
        },
        "id": "SRAzykIQmef6",
        "outputId": "554a5026-b123-4403-eb86-2dd0b9f0218f"
      },
      "execution_count": null,
      "outputs": [
        {
          "output_type": "execute_result",
          "data": {
            "text/plain": [
              "1.99 - 2.27*I"
            ],
            "text/latex": "$\\displaystyle 1.99 - 2.27 i$"
          },
          "metadata": {},
          "execution_count": 2
        }
      ]
    },
    {
      "cell_type": "code",
      "source": [
        "import sympy as smp\n",
        "import numpy as np\n",
        "import scipy as sp\n",
        "from scipy.integrate import quad\n",
        "\n",
        "x = smp.symbols(\"x\", real=True)\n",
        "f3 = lambda x: 1/((a-np.cos(x))**2 + (b-np.sin(x))**2)\n",
        "a,b = 2, 1\n",
        "quad(f3, 0, 2*np.pi)[0]"
      ],
      "metadata": {
        "colab": {
          "base_uri": "https://localhost:8080/"
        },
        "id": "SiTGWplJp5es",
        "outputId": "350ea036-324e-4342-de6e-dda170c78b50"
      },
      "execution_count": null,
      "outputs": [
        {
          "output_type": "execute_result",
          "data": {
            "text/plain": [
              "1.5707963267948952"
            ]
          },
          "metadata": {},
          "execution_count": 6
        }
      ]
    },
    {
      "cell_type": "code",
      "source": [
        "import sympy as smp\n",
        "import numpy as np\n",
        "import scipy as sp\n",
        "from scipy.integrate import quad \n",
        "\n",
        "x = smp.symbols(\"x\", real=True)\n",
        "f4 = (smp.acos(2*x))/(1+(x**2))\n",
        "smp.integrate(f4,(x, 0, np.inf)).evalf()"
      ],
      "metadata": {
        "colab": {
          "base_uri": "https://localhost:8080/",
          "height": 39
        },
        "id": "SS4IG7zIru51",
        "outputId": "16544ad5-1856-4471-b384-c610016210c8"
      },
      "execution_count": null,
      "outputs": [
        {
          "output_type": "execute_result",
          "data": {
            "text/plain": [
              "0.475 + 2.27*I"
            ],
            "text/latex": "$\\displaystyle 0.475 + 2.27 i$"
          },
          "metadata": {},
          "execution_count": 4
        }
      ]
    },
    {
      "cell_type": "markdown",
      "source": [
        "MAT LAB 3"
      ],
      "metadata": {
        "id": "7vTlEBvHhGCF"
      }
    },
    {
      "cell_type": "code",
      "source": [
        "import sympy as sy\n",
        "sy.init_printing()\n",
        "from sympy.plotting import plot\n",
        "t = sy.symbols('t')\n",
        "y = sy.Function('y')\n",
        "y1 = sy.Derivative(y(t), t)\n",
        "eqdiff = y1 - 2*t*(25-y(t))\n",
        "sol = sy.dsolve(eqdiff, y(t))\n",
        "sy.pprint(sol)"
      ],
      "metadata": {
        "colab": {
          "base_uri": "https://localhost:8080/"
        },
        "id": "X-iV11CShETm",
        "outputId": "78d7c363-1b79-4c51-bfe6-92920833be2f"
      },
      "execution_count": null,
      "outputs": [
        {
          "output_type": "stream",
          "name": "stdout",
          "text": [
            "             2     \n",
            "           -t      \n",
            "y(t) = C₁⋅ℯ    + 25\n"
          ]
        }
      ]
    },
    {
      "cell_type": "code",
      "source": [
        "import sympy as sy\n",
        "sy.init_printing()\n",
        "from sympy.plotting import plot\n",
        "x = sy.symbols('x')\n",
        "y = sy.Function('y')\n",
        "y1 = sy.Derivative(y(x), x)\n",
        "eqdiff = y1 - 2*x\n",
        "sol = sy.dsolve(eqdiff, y(x))\n",
        "sy.pprint(sol)\n",
        "sol = sy.dsolve(eqdiff, y(x),ics={y(0): '2'})\n",
        "sy.pprint(sol)"
      ],
      "metadata": {
        "colab": {
          "base_uri": "https://localhost:8080/"
        },
        "id": "NGdEMq7ejiSh",
        "outputId": "98e87113-f6b1-4c3f-99ac-0a56402440dd"
      },
      "execution_count": null,
      "outputs": [
        {
          "output_type": "stream",
          "name": "stdout",
          "text": [
            "             2\n",
            "y(x) = C₁ + x \n",
            "        2    \n",
            "y(x) = x  + 2\n"
          ]
        }
      ]
    }
  ]
}