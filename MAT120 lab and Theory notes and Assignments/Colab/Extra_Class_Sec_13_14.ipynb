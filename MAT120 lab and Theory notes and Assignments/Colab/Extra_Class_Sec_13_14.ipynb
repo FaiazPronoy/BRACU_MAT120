{
  "nbformat": 4,
  "nbformat_minor": 0,
  "metadata": {
    "colab": {
      "provenance": []
    },
    "kernelspec": {
      "name": "python3",
      "display_name": "Python 3"
    },
    "language_info": {
      "name": "python"
    }
  },
  "cells": [
    {
      "cell_type": "code",
      "execution_count": null,
      "metadata": {
        "id": "wX8vn-oKO4_e"
      },
      "outputs": [],
      "source": [
        "import sympy as sp\n",
        "import numpy as np\n",
        "import matplotlib.pyplot as plt"
      ]
    },
    {
      "cell_type": "code",
      "source": [
        "x = sp.symbols('x')"
      ],
      "metadata": {
        "id": "hqHP4B85PACK"
      },
      "execution_count": null,
      "outputs": []
    },
    {
      "cell_type": "code",
      "source": [
        "def dydx(x,y):\n",
        "  return np.array([y[0]+y[1], -2*y[0] + 4*y[1]])\n",
        "\n",
        "def EM(x0, xf, y0, N):\n",
        "\n",
        "  dx = (xf - x0)/N\n",
        "\n",
        "  x_val = []\n",
        "  A_val = []\n",
        "  B_val = []\n",
        "\n",
        "  for i in range(0,N):\n",
        "    x_val.append(x0)\n",
        "    A_val.append(y0[0])\n",
        "    B_val.append(y0[1])\n",
        "\n",
        "\n",
        "    y0 += dx*dydx(x0,y0)\n",
        "    x0 += dx\n",
        "\n",
        "  return x_val, A_val, B_val\n",
        "\n",
        "x0 = 0\n",
        "xf = 10\n",
        "y0 = [1,0]\n",
        "N = 1000\n",
        "\n",
        "x_v, A_v, B_v = EM(x0,xf,y0,N)\n",
        "\n",
        "plt.plot(x_v, A_v, label='A(x)')\n",
        "plt.plot(x_v, B_v, label='B(x)')\n",
        "plt.legend()"
      ],
      "metadata": {
        "colab": {
          "base_uri": "https://localhost:8080/",
          "height": 462
        },
        "id": "8aIhLCSsPDpz",
        "outputId": "39659cb6-dde7-45fb-b9a7-644629d7efaa"
      },
      "execution_count": null,
      "outputs": [
        {
          "output_type": "execute_result",
          "data": {
            "text/plain": [
              "<matplotlib.legend.Legend at 0x7dbd8a6bdd20>"
            ]
          },
          "metadata": {},
          "execution_count": 3
        },
        {
          "output_type": "display_data",
          "data": {
            "text/plain": [
              "<Figure size 640x480 with 1 Axes>"
            ],
            "image/png": "[encoded data removed]"
          },
          "metadata": {}
        }
      ]
    },
    {
      "cell_type": "code",
      "source": [
        "A = sp.Function('A')\n",
        "B = sp.Function('B')\n",
        "dA = sp.diff(A(x),x)\n",
        "dB = sp.diff(B(x),x)\n",
        "\n",
        "expA = dA - A(x) - B(x)\n",
        "expB = dB + 2*A(x) - 4*B(x)\n",
        "\n",
        "display(expA)\n",
        "display(expB)\n",
        "\n",
        "#Substitute 'B' from expA to 'B' in expB:\n",
        "exp1 = sp.solve(expA, B(x))    #[...] exp1[0]\n",
        "#display(exp1[0])\n",
        "\n",
        "exp2 = expB.subs(B(x), exp1[0])\n",
        "display(exp2.simplify())\n",
        "\n",
        "sol1 = sp.dsolve(exp2.simplify(), A(x))\n",
        "display(sol1)\n",
        "\n",
        "sol2 = exp1[0].subs(A(x), sol1.rhs)\n",
        "\n",
        "display(sp.Eq(B(x),sol2.simplify()))"
      ],
      "metadata": {
        "colab": {
          "base_uri": "https://localhost:8080/",
          "height": 167
        },
        "id": "pYw_mq86RgU6",
        "outputId": "9b062c64-a33f-406f-8de5-1a697aa823d9"
      },
      "execution_count": null,
      "outputs": [
        {
          "output_type": "display_data",
          "data": {
            "text/plain": [
              "-A(x) - B(x) + Derivative(A(x), x)"
            ],
            "text/latex": "$\\displaystyle - A{\\left(x \\right)} - B{\\left(x \\right)} + \\frac{d}{d x} A{\\left(x \\right)}$"
          },
          "metadata": {}
        },
        {
          "output_type": "display_data",
          "data": {
            "text/plain": [
              "2*A(x) - 4*B(x) + Derivative(B(x), x)"
            ],
            "text/latex": "$\\displaystyle 2 A{\\left(x \\right)} - 4 B{\\left(x \\right)} + \\frac{d}{d x} B{\\left(x \\right)}$"
          },
          "metadata": {}
        },
        {
          "output_type": "display_data",
          "data": {
            "text/plain": [
              "6*A(x) - 5*Derivative(A(x), x) + Derivative(A(x), (x, 2))"
            ],
            "text/latex": "$\\displaystyle 6 A{\\left(x \\right)} - 5 \\frac{d}{d x} A{\\left(x \\right)} + \\frac{d^{2}}{d x^{2}} A{\\left(x \\right)}$"
          },
          "metadata": {}
        },
        {
          "output_type": "display_data",
          "data": {
            "text/plain": [
              "Eq(A(x), (C1 + C2*exp(x))*exp(2*x))"
            ],
            "text/latex": "$\\displaystyle A{\\left(x \\right)} = \\left(C_{1} + C_{2} e^{x}\\right) e^{2 x}$"
          },
          "metadata": {}
        },
        {
          "output_type": "display_data",
          "data": {
            "text/plain": [
              "Eq(B(x), C2*exp(3*x) + (C1 + C2*exp(x))*exp(2*x))"
            ],
            "text/latex": "$\\displaystyle B{\\left(x \\right)} = C_{2} e^{3 x} + \\left(C_{1} + C_{2} e^{x}\\right) e^{2 x}$"
          },
          "metadata": {}
        }
      ]
    },
    {
      "cell_type": "code",
      "source": [
        "sol3 = sp.dsolve(exp2.simplify(), A(x), ics={A(0):1, dA.subs(x,0):1})\n",
        "display(sol3)\n",
        "\n",
        "sol4 = exp1[0].subs(A(x), sol3.rhs)\n",
        "\n",
        "display(sp.Eq(B(x),sol4.simplify()))\n",
        "\n",
        "Al = sp.lambdify(x, sol3.rhs)\n",
        "Bl = sp.lambdify(x, sol4.simplify())\n",
        "x_v = np.linspace(0, 10, 1000)\n",
        "\n",
        "plt.plot(x_v, Al(x_v), label='A(x)')\n",
        "plt.plot(x_v, Bl(x_v), label='B(x)')\n",
        "plt.legend()\n"
      ],
      "metadata": {
        "colab": {
          "base_uri": "https://localhost:8080/",
          "height": 506
        },
        "id": "06V6a1r2UXYf",
        "outputId": "3eb948b0-1a48-4472-deed-64f6c7b63859"
      },
      "execution_count": null,
      "outputs": [
        {
          "output_type": "display_data",
          "data": {
            "text/plain": [
              "Eq(A(x), (2 - exp(x))*exp(2*x))"
            ],
            "text/latex": "$\\displaystyle A{\\left(x \\right)} = \\left(2 - e^{x}\\right) e^{2 x}$"
          },
          "metadata": {}
        },
        {
          "output_type": "display_data",
          "data": {
            "text/plain": [
              "Eq(B(x), 2*(2 - exp(x))*exp(2*x) + (exp(x) - 2)*exp(2*x) - exp(3*x))"
            ],
            "text/latex": "$\\displaystyle B{\\left(x \\right)} = 2 \\cdot \\left(2 - e^{x}\\right) e^{2 x} + \\left(e^{x} - 2\\right) e^{2 x} - e^{3 x}$"
          },
          "metadata": {}
        },
        {
          "output_type": "execute_result",
          "data": {
            "text/plain": [
              "<matplotlib.legend.Legend at 0x7c9888dadcf0>"
            ]
          },
          "metadata": {},
          "execution_count": 19
        },
        {
          "output_type": "display_data",
          "data": {
            "text/plain": [
              "<Figure size 640x480 with 1 Axes>"
            ],
            "image/png": "[encoded data removed]"
          },
          "metadata": {}
        }
      ]
    },
    {
      "cell_type": "code",
      "source": [],
      "metadata": {
        "id": "w6Kp_1x2cEzG"
      },
      "execution_count": null,
      "outputs": []
    }
  ]
}