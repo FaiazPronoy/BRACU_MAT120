{
  "nbformat": 4,
  "nbformat_minor": 0,
  "metadata": {
    "colab": {
      "provenance": []
    },
    "kernelspec": {
      "name": "python3",
      "display_name": "Python 3"
    },
    "language_info": {
      "name": "python"
    }
  },
  "cells": [
    {
      "cell_type": "code",
      "execution_count": null,
      "metadata": {
        "id": "Umvx8Bs8eUds"
      },
      "outputs": [],
      "source": [
        "import numpy as np\n",
        "import matplotlib.pyplot as plt\n",
        "\n",
        "def plot_velocity_eqn(eq, start, end):\n",
        "    t = np.linspace(start, end, 1000)\n",
        "    v = eval(eq)\n",
        "    a = np.gradient(v, t)\n",
        "    \n",
        "    plt.plot(t, a)\n",
        "    plt.xlabel('Time (s)')\n",
        "    plt.ylabel('Acceleration (m/s^2)')\n",
        "    plt.title('Acceleration vs Time')\n",
        "    plt.show()\n",
        "    \n",
        "# Example usage\n",
        "eqn = '2*t**2 + 5*t + 10' # equation of velocity\n",
        "start_time = 0 # start time\n",
        "end_time = 10 # end time\n",
        "plot_velocity_eqn(eqn, start_time, end_time)\n"
      ]
    },
    {
      "cell_type": "code",
      "source": [
        "def velocity(displacement,time):\n",
        "  v1=displacement / time\n",
        "  return v1 , 'm/s'\n",
        "\n",
        "print(velocity(429,69))\n",
        "\n",
        "def acceleration1(velocity1,velocity2,time):\n",
        "  a=(velocity2-velocity1) / time\n",
        "  return a , 'm/s**2'\n",
        "\n",
        "print(acceleration1(69,420,69))\n",
        "\n",
        "def acceleration2(Fnet,mass):\n",
        "  a2= Fnet/mass\n",
        "  return a2,'m/s**2'\n",
        "\n",
        "print(acceleration2(12345,978))"
      ],
      "metadata": {
        "colab": {
          "base_uri": "https://localhost:8080/"
        },
        "id": "CPKYKL7l23Fw",
        "outputId": "78920fe0-4213-4d1a-b0d0-11db422e2c40"
      },
      "execution_count": null,
      "outputs": [
        {
          "output_type": "stream",
          "name": "stdout",
          "text": [
            "(6.217391304347826, 'm/s')\n",
            "(5.086956521739131, 'm/s**2')\n",
            "(12.622699386503067, 'm/s**2')\n"
          ]
        }
      ]
    }
  ]
}