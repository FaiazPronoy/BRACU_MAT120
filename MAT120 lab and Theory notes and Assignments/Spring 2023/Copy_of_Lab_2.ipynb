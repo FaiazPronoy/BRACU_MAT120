{
  "nbformat": 4,
  "nbformat_minor": 0,
  "metadata": {
    "colab": {
      "provenance": [],
      "collapsed_sections": [
        "S3_OyBDoiT5-",
        "7oMn_dXu7wOg",
        "PxygprmrJwdm"
      ]
    },
    "kernelspec": {
      "name": "python3",
      "display_name": "Python 3"
    },
    "language_info": {
      "name": "python"
    }
  },
  "cells": [
    {
      "cell_type": "markdown",
      "source": [
        "##Differentiation with multiple variable"
      ],
      "metadata": {
        "id": "S3_OyBDoiT5-"
      }
    },
    {
      "cell_type": "code",
      "source": [
        "from sympy import*\n",
        "\n",
        "x,y,z= symbols(\"x, y, z\")\n",
        "\n",
        "f = x**3 + 4*x*y - z\n",
        "\n",
        "#performing multiple substitutions at once\n",
        "fValue= f.subs([(x, 2), (y, 4), (z, 0)]) #putting values of x and y and z\n",
        "\n",
        "df= diff(f,x)\n",
        "\n",
        "df2 = diff(f,x,2)\n",
        "\n",
        "##printing\n",
        "\n",
        "print(fValue)\n",
        "\n",
        "print(df)\n",
        "\n",
        "print(df2)\n",
        "\n",
        "\n",
        "#Introducing Lambdify Function\n",
        "f = lambdify([x,y,z], f) #converting SymPy expression to a numerical expression\n",
        "\n",
        "df = lambdify(x, df)\n",
        "\n",
        "print(f(3,2,1))   \n",
        "\n",
        "print(df(3)) "
      ],
      "metadata": {
        "id": "KHToFu0GiYH3"
      },
      "execution_count": null,
      "outputs": []
    },
    {
      "cell_type": "code",
      "source": [
        "from sympy import*\n",
        "\n",
        "x,y,z= symbols(\"x, y, z\")\n",
        "\n",
        "f = x**3 + 4*x*y - z\n",
        "\n",
        "df= diff(f,x,y)\n",
        "dfall= diff(f,x,y,z)\n",
        "\n",
        "print(df)\n",
        "print(dfall)"
      ],
      "metadata": {
        "id": "cgb7xMGXj3or",
        "colab": {
          "base_uri": "https://localhost:8080/"
        },
        "outputId": "95921e56-a4dd-4baa-f115-407103933ea0"
      },
      "execution_count": null,
      "outputs": [
        {
          "output_type": "stream",
          "name": "stdout",
          "text": [
            "4\n",
            "0\n"
          ]
        }
      ]
    },
    {
      "cell_type": "code",
      "source": [
        "#Practice: f=3x^(2)y^(2)z+y^(3)x^(5)-x^(-3)z^(2)"
      ],
      "metadata": {
        "id": "tkXhMYVG09EN"
      },
      "execution_count": null,
      "outputs": []
    },
    {
      "cell_type": "code",
      "source": [
        "#partial differentiation\n",
        "\n",
        "from sympy import*\n",
        "\n",
        "x,y,z= symbols(\"x, y, z\")\n",
        "\n",
        "f = x**3 + 4*x*y - z\n",
        "\n",
        "dfx= diff(f,x)\n",
        "dfy= diff(f,y)\n",
        "dfz= diff(f,z)\n",
        "\n",
        "print(dfx)\n",
        "print(dfy)\n",
        "print(dfz)\n",
        "\n",
        "sum= dfx + dfy+ dfz \n",
        "print(sum)"
      ],
      "metadata": {
        "id": "LctXxH5VldKK",
        "colab": {
          "base_uri": "https://localhost:8080/"
        },
        "outputId": "2dd81e3a-b08d-4a13-d336-64dbe629f6ce"
      },
      "execution_count": null,
      "outputs": [
        {
          "output_type": "stream",
          "name": "stdout",
          "text": [
            "3*x**2 + 4*y\n",
            "4*x\n",
            "-1\n",
            "3*x**2 + 4*x + 4*y - 1\n"
          ]
        }
      ]
    },
    {
      "cell_type": "markdown",
      "source": [
        "##Lambdify Function"
      ],
      "metadata": {
        "id": "7oMn_dXu7wOg"
      }
    },
    {
      "cell_type": "code",
      "source": [
        "from sympy import* \n",
        "\n",
        "f = sin(x)+ln(x)\n",
        "\n",
        "L=lambdify(x, f)\n",
        "\n",
        "L(1)\n"
      ],
      "metadata": {
        "id": "UTzi9AjI70SD",
        "colab": {
          "base_uri": "https://localhost:8080/"
        },
        "outputId": "3a36000f-e24e-4d5f-d170-df57c7464bca"
      },
      "execution_count": null,
      "outputs": [
        {
          "output_type": "execute_result",
          "data": {
            "text/plain": [
              "0.8414709848078965"
            ]
          },
          "metadata": {},
          "execution_count": 6
        }
      ]
    },
    {
      "cell_type": "markdown",
      "source": [
        "##Task: Findind the maxima and minima of y through python code "
      ],
      "metadata": {
        "id": "PxygprmrJwdm"
      }
    },
    {
      "cell_type": "code",
      "source": [
        "#y=x^3-3x^2-45x+13\n",
        "\n",
        "#Quadratic formula\n",
        "import math \n",
        "from sympy import*\n",
        "import numpy as np\n",
        "import matplotlib.pyplot as plt\n",
        "a=3\n",
        "b=-6\n",
        "c=-45\n",
        "x1=(-b+ (b**2-4*a*c)**(1/2))/(2*a)\n",
        "x2=(-b- (b**2-4*a*c)**(1/2))/(2*a)\n",
        "print(x1,x2)\n",
        "x= symbols('x')\n",
        "f=x**3-3*(x**2)-45*x+13\n",
        "df= diff(f,x)\n",
        "sorted=solve(df,x)\n",
        "df2=diff(df,x)\n",
        "if (len(sorted)>0):\n",
        "  for i in range(len(sorted)):\n",
        "    current=df2.subs(x,float(sorted[i]))\n",
        "    if current<0:\n",
        "      print('The maxima is:', sorted[i])\n",
        "    elif current>0:\n",
        "      print('The minima is:', sorted[i])\n",
        "else:\n",
        "  print('there is no maxima or minima')\n",
        "\n",
        "f=lambdify(x,f)\n",
        "var=np.arange(-5,7)\n",
        "y=f(var)\n",
        "plt.xlabel('x axis')\n",
        "plt.ylabel('y axis')\n",
        "plt.title('x**3-3*(x**2)-45*x+13')\n",
        "plt.plot(var,y)\n",
        "plt.show()"
      ],
      "metadata": {
        "id": "jZNkGpOZKhzt",
        "colab": {
          "base_uri": "https://localhost:8080/",
          "height": 347
        },
        "outputId": "a5a40acb-e769-4e1d-e761-a3856caae370"
      },
      "execution_count": null,
      "outputs": [
        {
          "output_type": "stream",
          "name": "stdout",
          "text": [
            "5.0 -3.0\n",
            "The maxima is: -3\n",
            "The minima is: 5\n"
          ]
        },
        {
          "output_type": "display_data",
          "data": {
            "text/plain": [
              "<Figure size 432x288 with 1 Axes>"
            ],
            "image/png": "[encoded data removed]"
          },
          "metadata": {
            "needs_background": "light"
          }
        }
      ]
    },
    {
      "cell_type": "code",
      "source": [
        "from sympy import*\n",
        "import numpy as np\n",
        "import matplotlib.pyplot as plt\n",
        "x= symbols('x')\n",
        "f=x**3-3*(x**2)-45*x+13\n",
        "df= diff(f,x)\n",
        "sorted=solve(df,x)\n",
        "df2=diff(df,x)\n",
        "if (len(sorted)>0):\n",
        "  for i in range(len(sorted)):\n",
        "    current=df2.subs(x,float(sorted[i]))\n",
        "    if current<0:\n",
        "      print('The maxima is:', sorted[i])\n",
        "    elif current>0:\n",
        "      print('The minima is:', sorted[i])\n",
        "else:\n",
        "  print('there is no maxima or minima')\n",
        "\n",
        "f=lambdify(x,f)\n",
        "var=np.arange(-5,7)\n",
        "y=f(var)\n",
        "plt.xlabel('x axis')\n",
        "plt.ylabel('y axis')\n",
        "plt.title('x**3-3*(x**2)-45*x+13')\n",
        "plt.plot(var,y)\n",
        "plt.show()"
      ],
      "metadata": {
        "colab": {
          "base_uri": "https://localhost:8080/",
          "height": 330
        },
        "id": "GNCeBE68-FbG",
        "outputId": "01915290-76e0-44c5-89c6-36ae3ce5f2da"
      },
      "execution_count": null,
      "outputs": [
        {
          "output_type": "stream",
          "name": "stdout",
          "text": [
            "The maxima is: -3\n",
            "The minima is: 5\n"
          ]
        },
        {
          "output_type": "display_data",
          "data": {
            "text/plain": [
              "<Figure size 432x288 with 1 Axes>"
            ],
            "image/png": "[encoded data removed]"
          },
          "metadata": {
            "needs_background": "light"
          }
        }
      ]
    },
    {
      "cell_type": "markdown",
      "source": [
        "##Learning Materials\n",
        "\n",
        "\n",
        "To learn more about python, you may check these websites:\n",
        "\n",
        "*   [programmingwithmosh](https://programmingwithmosh.com/python/python-3-cheat-sheet/)\n",
        "*   [OneCompiler](https://onecompiler.com/tutorials/python/)\n",
        "*   [W3Schools](https://www.w3schools.com/python/)\n",
        "\n",
        "\n",
        "You may also watch these videos:\n",
        "\n",
        "*   [Python Basics Part 1](https://youtu.be/kNFjiQRUV9M)\n",
        "* [Python Basics Part 2](https://youtu.be/i4bMTf6xUaA)\n",
        "* [Python Basics Part 3](https://youtu.be/DriXZP7QytM)\n",
        "* [Python Basics Part 4](https://youtu.be/vGu_DHyK8DI)\n"
      ],
      "metadata": {
        "id": "fbrf2lgreFiq"
      }
    }
  ]
}