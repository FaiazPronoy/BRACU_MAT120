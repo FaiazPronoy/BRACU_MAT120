{
  "nbformat": 4,
  "nbformat_minor": 0,
  "metadata": {
    "colab": {
      "provenance": []
    },
    "kernelspec": {
      "name": "python3",
      "display_name": "Python 3"
    },
    "language_info": {
      "name": "python"
    }
  },
  "cells": [
    {
      "cell_type": "markdown",
      "source": [
        "Consider the equation of a freely falling object, \\\\\n",
        "\\begin{equation} \\frac{dv}{dt}=g-bv^2 \\end{equation} \\\\\n",
        "1. Solve the DE where b=1 and g=10\n",
        "2. Plot v vs t.\n",
        "3. Plot v vs t for different values of b."
      ],
      "metadata": {
        "id": "GqpRwkL6Fxk-"
      }
    },
    {
      "cell_type": "code",
      "source": [
        "from scipy.integrate import odeint\n",
        "import numpy as np\n",
        "\n",
        "def dvdt(v,t):\n",
        "  return g-b*v**2\n",
        "\n",
        "v0=1\n",
        "g=10\n",
        "b=1\n",
        "ts=np.arange(0,10, 0.1)\n",
        "vt=odeint(dvdt, v0, ts)\n",
        "print(vt) "
      ],
      "metadata": {
        "colab": {
          "base_uri": "https://localhost:8080/"
        },
        "id": "kf6Qo2YbFzju",
        "outputId": "36054ad4-18d6-4d93-9902-6a83e3b8b283"
      },
      "execution_count": null,
      "outputs": [
        {
          "output_type": "stream",
          "name": "stdout",
          "text": [
            "[[1.        ]\n",
            " [1.79427182]\n",
            " [2.35347696]\n",
            " [2.70517453]\n",
            " [2.91090999]\n",
            " [3.02619457]\n",
            " [3.08924211]\n",
            " [3.12326376]\n",
            " [3.14149003]\n",
            " [3.15121645]\n",
            " [3.15639619]\n",
            " [3.15915156]\n",
            " [3.16061642]\n",
            " [3.16139496]\n",
            " [3.16180867]\n",
            " [3.16202848]\n",
            " [3.16214527]\n",
            " [3.16220732]\n",
            " [3.16224029]\n",
            " [3.16225781]\n",
            " [3.16226711]\n",
            " [3.16227206]\n",
            " [3.16227469]\n",
            " [3.16227608]\n",
            " [3.16227682]\n",
            " [3.16227721]\n",
            " [3.16227742]\n",
            " [3.16227754]\n",
            " [3.1622776 ]\n",
            " [3.16227763]\n",
            " [3.16227764]\n",
            " [3.16227765]\n",
            " [3.16227765]\n",
            " [3.16227766]\n",
            " [3.16227766]\n",
            " [3.16227766]\n",
            " [3.16227766]\n",
            " [3.16227766]\n",
            " [3.16227766]\n",
            " [3.16227766]\n",
            " [3.16227766]\n",
            " [3.16227766]\n",
            " [3.16227766]\n",
            " [3.16227766]\n",
            " [3.16227766]\n",
            " [3.16227766]\n",
            " [3.16227766]\n",
            " [3.16227766]\n",
            " [3.16227766]\n",
            " [3.16227766]\n",
            " [3.16227766]\n",
            " [3.16227766]\n",
            " [3.16227766]\n",
            " [3.16227766]\n",
            " [3.16227766]\n",
            " [3.16227766]\n",
            " [3.16227766]\n",
            " [3.16227766]\n",
            " [3.16227766]\n",
            " [3.16227766]\n",
            " [3.16227766]\n",
            " [3.16227766]\n",
            " [3.16227766]\n",
            " [3.16227766]\n",
            " [3.16227766]\n",
            " [3.16227766]\n",
            " [3.16227766]\n",
            " [3.16227766]\n",
            " [3.16227766]\n",
            " [3.16227766]\n",
            " [3.16227766]\n",
            " [3.16227766]\n",
            " [3.16227766]\n",
            " [3.16227766]\n",
            " [3.16227766]\n",
            " [3.16227766]\n",
            " [3.16227766]\n",
            " [3.16227766]\n",
            " [3.16227766]\n",
            " [3.16227766]\n",
            " [3.16227766]\n",
            " [3.16227766]\n",
            " [3.16227766]\n",
            " [3.16227766]\n",
            " [3.16227766]\n",
            " [3.16227766]\n",
            " [3.16227766]\n",
            " [3.16227766]\n",
            " [3.16227766]\n",
            " [3.16227766]\n",
            " [3.16227766]\n",
            " [3.16227766]\n",
            " [3.16227766]\n",
            " [3.16227766]\n",
            " [3.16227766]\n",
            " [3.16227766]\n",
            " [3.16227766]\n",
            " [3.16227766]\n",
            " [3.16227766]\n",
            " [3.16227766]]\n"
          ]
        }
      ]
    },
    {
      "cell_type": "code",
      "source": [
        "import matplotlib.pyplot as plt\n",
        "\n",
        "plt.plot(ts,vt)\n",
        "plt.title(\"Velocity vs Time graph\")\n",
        "plt.xlabel(\"Time\")\n",
        "plt.ylabel(\"Velocity\")\n",
        "plt.show()"
      ],
      "metadata": {
        "colab": {
          "base_uri": "https://localhost:8080/",
          "height": 472
        },
        "id": "_Kt2ZIKGH2cg",
        "outputId": "89ffd015-7cd5-4d1b-a709-9407c6487785"
      },
      "execution_count": null,
      "outputs": [
        {
          "output_type": "display_data",
          "data": {
            "text/plain": [
              "<Figure size 640x480 with 1 Axes>"
            ],
            "image/png": "[encoded data removed]"
          },
          "metadata": {}
        }
      ]
    },
    {
      "cell_type": "markdown",
      "source": [
        "**Practice** \\\\\n",
        "The equation of a forced dampened harmonic oscillator is \\\\\n",
        "\\begin{equation} \n",
        "\\frac{d^2x}{dt^2}+2\\gamma \\frac{dx}{dt}+k^2x=F(t)\n",
        "\\end{equation}\n",
        "1. Plot x vs t. \\\\\n",
        "2. Plot x vs t for different values of $\\gamma$."
      ],
      "metadata": {
        "id": "xeND32LKRSKb"
      }
    }
  ]
}