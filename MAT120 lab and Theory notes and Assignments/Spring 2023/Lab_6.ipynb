{
  "nbformat": 4,
  "nbformat_minor": 0,
  "metadata": {
    "colab": {
      "provenance": []
    },
    "kernelspec": {
      "name": "python3",
      "display_name": "Python 3"
    }
  },
  "cells": [
    {
      "cell_type": "markdown",
      "source": [
        "`**Reference model**\n",
        "\n",
        "\\begin{cases} y'' + a y' + b y= f(x) \\\\ y(x_0)= y_0 \\\\ y'(x_0)= y_0'\\end{cases}\n",
        "\n",
        "*Example*\n",
        "\n",
        "**Differential equation:**\n",
        "\n",
        "\\begin{cases} y'' + 9y = 0\\,, \\\\ y\\left({\\pi\\over 4}\\right)= 0\\,, \\\\ y'\\left({\\pi\\over 4}\\right)= 3\\sqrt{2}\\,.\\end{cases}\n",
        "\n",
        "\n",
        "**General solution:**\n",
        "\n",
        "y =\n",
        "​\n",
        " C1 cos(3x)+C2 sin(3x)\n",
        "  \n",
        "\n",
        "**​Solution (with initial condition):**\n",
        "\n",
        "y= − cos(3x) − sin(3x)"
      ],
      "metadata": {
        "id": "uXCbDCnAXItd"
      }
    },
    {
      "cell_type": "markdown",
      "source": [
        "**Initialization and symbolic variables**"
      ],
      "metadata": {
        "id": "SI9ufBEqXWIE"
      }
    },
    {
      "cell_type": "code",
      "source": [
        "#Importing Symbolic library and its initialization\n",
        "\n",
        "from sympy import *\n",
        "#Some common variables declaration\n",
        "x = symbols('x')\n",
        "y = Function('y')\n",
        "y1 = diff(y(x), x)\n",
        "y2 = Derivative(y(x), x, x)"
      ],
      "metadata": {
        "id": "FpbNmKRqXXm6"
      },
      "execution_count": null,
      "outputs": []
    },
    {
      "cell_type": "code",
      "source": [
        "#General Solution\n",
        "#Definiting the expression\n",
        "eqdiff = y2 + 9*y(x)\n",
        "#Solution\n",
        "eq=dsolve(eqdiff, y(x))\n",
        "print(eq)"
      ],
      "metadata": {
        "colab": {
          "base_uri": "https://localhost:8080/"
        },
        "id": "9lEqkzZGYABM",
        "outputId": "8e37bc62-c9b9-4e27-c58b-d654c8a8c7d2"
      },
      "execution_count": null,
      "outputs": [
        {
          "output_type": "stream",
          "name": "stdout",
          "text": [
            "Eq(y(x), C1*sin(3*x) + C2*cos(3*x))\n"
          ]
        }
      ]
    },
    {
      "cell_type": "code",
      "source": [
        "#Solution with the given initial condition\n",
        "\n",
        "x0 = pi/4\n",
        "sol = dsolve(eqdiff, y(x), ics={y(x0): 0, diff(y(x),x).subs(x, x0): 3*sqrt(2)})\n",
        "\n",
        "pprint(sol)"
      ],
      "metadata": {
        "colab": {
          "base_uri": "https://localhost:8080/"
        },
        "id": "NVznVpk_Z3D7",
        "outputId": "f57db20f-26c6-49b5-ad0c-5d92103dc4cf"
      },
      "execution_count": null,
      "outputs": [
        {
          "output_type": "stream",
          "name": "stdout",
          "text": [
            "y(x) = -sin(3⋅x) - cos(3⋅x)\n"
          ]
        }
      ]
    },
    {
      "cell_type": "markdown",
      "source": [
        "***Task 1***: Solve the second order differential equation $y''+ 16y = 0$\n"
      ],
      "metadata": {
        "id": "9AWLdufpdhnu"
      }
    },
    {
      "cell_type": "markdown",
      "source": [
        "***Task 2***: Solve the initial-value problem\n",
        "\n",
        "y′′−y′+6y=0 \n",
        "\n",
        "y(0)=1  and  y′(0)=0"
      ],
      "metadata": {
        "id": "Yb39tRS-d7F8"
      }
    }
  ]
}