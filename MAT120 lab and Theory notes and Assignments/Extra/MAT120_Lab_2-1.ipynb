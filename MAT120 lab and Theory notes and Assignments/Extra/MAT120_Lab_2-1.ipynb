{
  "nbformat": 4,
  "nbformat_minor": 0,
  "metadata": {
    "colab": {
      "name": "MAT120_Lab_2.ipynb",
      "provenance": [],
      "collapsed_sections": []
    },
    "kernelspec": {
      "name": "python3",
      "display_name": "Python 3"
    },
    "language_info": {
      "name": "python"
    }
  },
  "cells": [
    {
      "cell_type": "markdown",
      "source": [
        "# ***Derivatives are used in machine learning to solve optimization issues like gradient descent to decide whether to raise or decrease weights when a function approaches its maximum or minimum. This lab will cover how these functions are used in Python***"
      ],
      "metadata": {
        "id": "nQE6Ea-5bqUI"
      }
    },
    {
      "cell_type": "markdown",
      "source": [
        "##**Working with one variable only**\n"
      ],
      "metadata": {
        "id": "OIpG3uEQ3ljt"
      }
    },
    {
      "cell_type": "markdown",
      "source": [
        "*Symbolic differentiation manipulates a given equation, using various rules, to produce the derivative of that equation.*"
      ],
      "metadata": {
        "id": "5pkPOEZzd0cu"
      }
    },
    {
      "cell_type": "code",
      "source": [
        "Name=\"\"\n",
        "ID=\"\"\n",
        "Section=\"\""
      ],
      "metadata": {
        "id": "9TDI--Y98yJ7"
      },
      "execution_count": null,
      "outputs": []
    },
    {
      "cell_type": "code",
      "execution_count": 1,
      "metadata": {
        "colab": {
          "base_uri": "https://localhost:8080/"
        },
        "id": "MdHqB4BvwYRo",
        "outputId": "1bf173cb-ce94-4e00-f3ba-e6f3fdc9ed4f"
      },
      "outputs": [
        {
          "output_type": "stream",
          "name": "stdout",
          "text": [
            "6*x**2 + 2*x + 3\n",
            "2*(6*x + 1)\n",
            "161\n",
            "107\n",
            "161.000000000000\n"
          ]
        }
      ],
      "source": [
        "#Import sympy\n",
        "from sympy import* \n",
        "\n",
        "#Make a symbol\n",
        "x= symbols('x')\n",
        "\n",
        "#Write symbolic expression\n",
        "f = 2*x**3+ x**2 + 3*x+ 5\n",
        "\n",
        "#taking the first derivative of the function\n",
        "df= diff(f,x)\n",
        "\n",
        "#taking the nth derivative of the function (passing the third argument)\n",
        "df2= diff(f,x,2) \n",
        "\n",
        "#printing\n",
        "\n",
        "print(df)\n",
        "\n",
        "print(df2)\n",
        "\n",
        "#Substituting values into expressions\n",
        "print(f.subs(x,4))\n",
        "\n",
        "print(df.subs(x,4))\n",
        "\n",
        "#For evaluating a numerical expression into a floating point number use \"evalf\"\n",
        "\n",
        "print(f.subs(x,4).evalf())\n",
        "\n"
      ]
    },
    {
      "cell_type": "markdown",
      "source": [
        "##**Working with multiple variables**\n",
        "\n"
      ],
      "metadata": {
        "id": "glPTXBEd3Ntc"
      }
    },
    {
      "cell_type": "code",
      "source": [
        "x,y,z= symbols(\"x y z\")\n",
        "\n",
        "expr = x**3 + 4*x*y - z\n",
        "\n",
        "#performing multiple substitutions at once\n",
        "exprValue= expr.subs([(x, 2), (y, 4), (z, 0)]) #putting values of x and y and z\n",
        "\n",
        "dfExpr = diff(expr,x)\n",
        "\n",
        "df2Expr = diff(expr,x,2)\n",
        "\n",
        "##printing\n",
        "\n",
        "print(exprValue)\n",
        "\n",
        "print(dfExpr)\n",
        "\n",
        "print(df2Expr)"
      ],
      "metadata": {
        "colab": {
          "base_uri": "https://localhost:8080/"
        },
        "id": "IWaMkdXZ0IR1",
        "outputId": "9bbc4b8c-9f79-4c6c-ba42-47649c9b558c"
      },
      "execution_count": 2,
      "outputs": [
        {
          "output_type": "stream",
          "name": "stdout",
          "text": [
            "40\n",
            "3*x**2 + 4*y\n",
            "6*x\n"
          ]
        }
      ]
    },
    {
      "cell_type": "markdown",
      "source": [
        "##**The lambdify function**\n",
        "(Coverting SymPy expression to a numerical expression)\n"
      ],
      "metadata": {
        "id": "ZVip02BTIV8k"
      }
    },
    {
      "cell_type": "code",
      "source": [
        "f = lambdify(x, f) #converting SymPy expression to a numerical expression\n",
        "\n",
        "df = lambdify(x, df)\n",
        "\n",
        "\n",
        "print(f(3))    \n",
        "\n",
        "#print(f(4))\n",
        "\n",
        "print(df(3))   "
      ],
      "metadata": {
        "colab": {
          "base_uri": "https://localhost:8080/"
        },
        "id": "CedyHECt3KlH",
        "outputId": "15e36bf5-6849-4ad4-9ab4-6ff0cd8fda0c"
      },
      "execution_count": 3,
      "outputs": [
        {
          "output_type": "stream",
          "name": "stdout",
          "text": [
            "77\n",
            "63\n"
          ]
        }
      ]
    },
    {
      "cell_type": "markdown",
      "source": [
        "##**The lambdify function create options for evaluating expressions, including using other libraries like NumPy and SciPy.**"
      ],
      "metadata": {
        "id": "e9VnYPlhRc11"
      }
    },
    {
      "cell_type": "code",
      "source": [
        "import numpy as np\n",
        "\n",
        "test_numbers = np.arange(-5,6)   \n",
        "\n",
        "a=df(test_numbers)\n",
        "print(test_numbers)\n",
        "\n",
        "print(a)"
      ],
      "metadata": {
        "colab": {
          "base_uri": "https://localhost:8080/"
        },
        "id": "t0GJEE2gIkQU",
        "outputId": "d1854ff3-5be2-43cc-e9e7-701753023cad"
      },
      "execution_count": null,
      "outputs": [
        {
          "output_type": "stream",
          "name": "stdout",
          "text": [
            "[-5 -4 -3 -2 -1  0  1  2  3  4  5]\n",
            "[143  91  51  23   7   3  11  31  63 107 163]\n"
          ]
        }
      ]
    },
    {
      "cell_type": "markdown",
      "source": [
        "# **Plotting**"
      ],
      "metadata": {
        "id": "xEyEtGx9omt6"
      }
    },
    {
      "cell_type": "markdown",
      "source": [
        "**Plotting the Curve**"
      ],
      "metadata": {
        "id": "16PcFEgAQoWV"
      }
    },
    {
      "cell_type": "code",
      "source": [
        "\n",
        "# importing the required module\n",
        "import matplotlib.pyplot as plt\n",
        "\n",
        "# plotting the points \n",
        "plt.plot(test_numbers, a)\n",
        "  \n",
        "# naming the x axis\n",
        "plt.xlabel('x - axis')\n",
        "\n",
        "# # naming the y axis\n",
        "plt.ylabel('y - axis')\n",
        "  \n",
        "# giving a title to the graph\n",
        "\n",
        "plt.title('Shape of the Function')\n",
        "  \n",
        "# Plotting the graph\n",
        "plt.show()"
      ],
      "metadata": {
        "colab": {
          "base_uri": "https://localhost:8080/",
          "height": 295
        },
        "id": "ld7dJa5_QN3D",
        "outputId": "f3963f8b-71ef-4b95-cbff-463b9c76f09b"
      },
      "execution_count": null,
      "outputs": [
        {
          "output_type": "display_data",
          "data": {
            "text/plain": [
              "<Figure size 432x288 with 1 Axes>"
            ],
            "image/png": "[encoded data removed]"
          },
          "metadata": {
            "needs_background": "light"
          }
        }
      ]
    },
    {
      "cell_type": "markdown",
      "source": [
        "##**Assignment 1** \n",
        "\n",
        "Plot the graph and then, find the minima and maxima of the following functions at the given interval for, \n",
        "\n",
        "$1. y= 9x^3−7x^2+3x+10 , [-5, 6]$\n",
        "\n",
        "$2. y= ln (x) , [-5, 6]$\n",
        "\n",
        "$3. y= sin (x) , [-5, 6]$\n",
        "\n",
        "$4. y= cos (x) , [-5, 6]$\n",
        "\n",
        "$5. y= tan (x) , [-5, 6]$\n",
        "\n"
      ],
      "metadata": {
        "id": "6xgj0VM1ndKz"
      }
    },
    {
      "cell_type": "code",
      "source": [
        "#Example\n",
        "\n",
        "from sympy import* \n",
        "import numpy as np\n",
        "import matplotlib.pyplot as plt\n",
        "import math\n",
        "\n",
        "x= symbols('x')\n",
        "\n",
        "f1 = 2*x**3+ x**2 + 3*x+ 5\n",
        "f1 = lambdify(x, f1)\n",
        "data_x = np.arange(-5,7)\n",
        "data_y=f1(data_x)\n",
        "print(data_x)\n",
        "print(data_y)\n",
        "\n",
        "plt.plot(data_x, data_y)\n",
        "plt.xlabel('x - axis')\n",
        "plt.ylabel('y - axis')\n",
        "plt.title('y= 2x^3+ x^2 + 3^x+ 5')\n",
        "plt.show"
      ],
      "metadata": {
        "id": "9ffVPs2dtR8m",
        "colab": {
          "base_uri": "https://localhost:8080/",
          "height": 347
        },
        "outputId": "9d921d50-1dbe-4e7e-cd9b-03fc5f1b454e"
      },
      "execution_count": null,
      "outputs": [
        {
          "output_type": "stream",
          "name": "stdout",
          "text": [
            "[-5 -4 -3 -2 -1  0  1  2  3  4  5  6]\n",
            "[-235 -119  -49  -13    1    5   11   31   77  161  295  491]\n"
          ]
        },
        {
          "output_type": "execute_result",
          "data": {
            "text/plain": [
              "<function matplotlib.pyplot.show>"
            ]
          },
          "metadata": {},
          "execution_count": 6
        },
        {
          "output_type": "display_data",
          "data": {
            "text/plain": [
              "<Figure size 432x288 with 1 Axes>"
            ],
            "image/png": "[encoded data removed]"
          },
          "metadata": {
            "needs_background": "light"
          }
        }
      ]
    },
    {
      "cell_type": "code",
      "source": [
        ""
      ],
      "metadata": {
        "id": "Tb-X6hV5AvC5"
      },
      "execution_count": null,
      "outputs": []
    }
  ]
}