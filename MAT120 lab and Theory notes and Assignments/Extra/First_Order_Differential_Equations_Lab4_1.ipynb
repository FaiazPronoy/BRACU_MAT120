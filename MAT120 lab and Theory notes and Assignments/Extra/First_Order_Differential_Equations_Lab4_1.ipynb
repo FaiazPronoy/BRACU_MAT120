{
  "nbformat": 4,
  "nbformat_minor": 0,
  "metadata": {
    "colab": {
      "name": "First_Order_Differential_Equations_Lab4 (1).ipynb",
      "provenance": [],
      "collapsed_sections": []
    },
    "kernelspec": {
      "name": "python3",
      "display_name": "Python 3"
    },
    "language_info": {
      "name": "python"
    }
  },
  "cells": [
    {
      "cell_type": "markdown",
      "source": [
        "First order differential equations\n",
        "\n",
        "\n",
        "Reference model\n",
        "\\begin{cases} y' = f(x,y) \\\\ y(0)= y_0\\end{cases}\n",
        "\n",
        "Example\n",
        "Differential equation:\n",
        "\n",
        "\\begin{cases} y' = -{y^2\\over x^2} \\\\ y(1)= {1\\over 2}\\end{cases}\n",
        "\n",
        "\n",
        "\n",
        "​Analytical solution in Python (SymPy):\n"
      ],
      "metadata": {
        "id": "bxRjJeqjdsWq"
      }
    },
    {
      "cell_type": "markdown",
      "source": [
        "\n",
        "**Initialization and symbolic variables**"
      ],
      "metadata": {
        "id": "ifHUPcNofObo"
      }
    },
    {
      "cell_type": "code",
      "source": [
        "# Symbolic library and its initialization\n",
        "import sympy as sy\n",
        "\n",
        "sy.init_printing()\n",
        "\n",
        "# For function plot\n",
        "from sympy.plotting import plot\n",
        "\n",
        "# Some common variables\n",
        "x = sy.symbols('x')\n",
        "\n",
        "y = sy.Function('y')\n",
        "y1 = sy.Derivative(y(x), x)"
      ],
      "metadata": {
        "id": "CEm5TRvqfN25"
      },
      "execution_count": 47,
      "outputs": []
    },
    {
      "cell_type": "markdown",
      "source": [
        "**General solution**"
      ],
      "metadata": {
        "id": "Ek1Qw59LfbSH"
      }
    },
    {
      "cell_type": "code",
      "source": [
        "# General solution\n",
        "\n",
        "# Definition\n",
        "eqdiff = y1 + (y(x)**2)/x**2\n",
        "\n",
        "# Solution\n",
        "sol = sy.dsolve(eqdiff, y(x))\n",
        "\n",
        "# Print\n",
        "sy.pprint(sol)"
      ],
      "metadata": {
        "colab": {
          "base_uri": "https://localhost:8080/"
        },
        "id": "vbuGIb9YfbCv",
        "outputId": "40bb7159-30a2-456d-cc38-237c20af0410"
      },
      "execution_count": 48,
      "outputs": [
        {
          "output_type": "stream",
          "name": "stdout",
          "text": [
            "         -x    \n",
            "y(x) = ────────\n",
            "       C₁⋅x + 1\n"
          ]
        }
      ]
    },
    {
      "cell_type": "markdown",
      "source": [
        "**Solution with the initial condition**"
      ],
      "metadata": {
        "id": "eidjtkvjf3bY"
      }
    },
    {
      "cell_type": "code",
      "source": [
        "# Solution with the given initial conditions\n",
        "sol = sy.dsolve(eqdiff, y(x),ics={y(1): '1/2'})\n",
        "sy.pprint(sol)\n"
      ],
      "metadata": {
        "colab": {
          "base_uri": "https://localhost:8080/"
        },
        "id": "JUDpZY9Ff3Mq",
        "outputId": "34965e81-25be-4062-a601-3be6c3b0ab60"
      },
      "execution_count": 49,
      "outputs": [
        {
          "output_type": "stream",
          "name": "stdout",
          "text": [
            "         -x   \n",
            "y(x) = ───────\n",
            "       1 - 3⋅x\n"
          ]
        }
      ]
    },
    {
      "cell_type": "markdown",
      "source": [
        "**Plot and svg**"
      ],
      "metadata": {
        "id": "84E-_QmBgF5B"
      }
    },
    {
      "cell_type": "code",
      "source": [
        "# Plotting\n",
        "\n",
        "title = sy.latex(sol.rhs)\n",
        "xtol = 1e-3\n",
        "p1 = plot(sol.rhs, (x,-1,1/3-xtol), show=False, ylim=[-10,10], title=f\"${title}$\")\n",
        "p2 = plot(sol.rhs, (x,1/3+xtol,1), show=False, ylim=[-10,10])\n",
        "p1.extend(p2)\n",
        "p1.show()\n",
        "\n",
        "# Save in svg format\n",
        "#p1.save(\"ode-1.svg\")"
      ],
      "metadata": {
        "colab": {
          "base_uri": "https://localhost:8080/",
          "height": 297
        },
        "id": "7f_E8Nc-gFQg",
        "outputId": "bfa21650-9750-4356-849d-3784da1cc9ec"
      },
      "execution_count": 50,
      "outputs": [
        {
          "output_type": "display_data",
          "data": {
            "text/plain": [
              "<Figure size 432x288 with 1 Axes>"
            ],
            "image/png": "[encoded data removed]"
          },
          "metadata": {
            "needs_background": "light"
          }
        }
      ]
    },
    {
      "cell_type": "markdown",
      "source": [
        "**Plot using matplotlib**"
      ],
      "metadata": {
        "id": "HVEMy2bWglRM"
      }
    },
    {
      "cell_type": "code",
      "source": [
        "# plot using matplotlib\n",
        "f = sy.lambdify(x, sol.rhs, 'numpy')\n",
        "\n",
        "import numpy as np\n",
        "import matplotlib.pyplot as plt\n",
        "\n",
        "x1 = np.linspace(-1, 1/3-xtol, num=100)\n",
        "x2 = np.linspace(1/3+xtol, 2, num=100)\n",
        "\n",
        "plt.plot(x1, f(x1), '-', c='C0')\n",
        "plt.plot(x2, f(x2), '-', c='C0')\n",
        "plt.ylim(-10,10)\n",
        "plt.savefig(\"ode-1-mpl.svg\")\n",
        "plt.show()"
      ],
      "metadata": {
        "colab": {
          "base_uri": "https://localhost:8080/",
          "height": 269
        },
        "id": "iv6pgZFcgk_w",
        "outputId": "a0ca19be-13e4-47a7-cdf4-a378982e8f3f"
      },
      "execution_count": 51,
      "outputs": [
        {
          "output_type": "display_data",
          "data": {
            "text/plain": [
              "<Figure size 432x288 with 1 Axes>"
            ],
            "image/png": "[encoded data removed]"
          },
          "metadata": {
            "needs_background": "light"
          }
        }
      ]
    },
    {
      "cell_type": "markdown",
      "source": [
        "**Numerical solution in Python (SciPy)**\n",
        "\n",
        "Initialization and equation in the standard solver format"
      ],
      "metadata": {
        "id": "pqvcJTwPhxIQ"
      }
    },
    {
      "cell_type": "code",
      "execution_count": 52,
      "metadata": {
        "id": "Epg6HlEwddDD"
      },
      "outputs": [],
      "source": [
        "# Libraries\n",
        "import numpy as np\n",
        "import matplotlib.pyplot as plt\n",
        "from scipy.integrate import odeint\n",
        "\n",
        "# Model\n",
        "def model(y, t):\n",
        "    dydt = -y**2/t**2\n",
        "    return dydt"
      ]
    },
    {
      "cell_type": "markdown",
      "source": [
        "**Numerical solution in a given interval**"
      ],
      "metadata": {
        "id": "3dvLJ-0wiUH9"
      }
    },
    {
      "cell_type": "code",
      "source": [
        "# Solution\n",
        "t = np.linspace(1, 10, 1001)\n",
        "y0 = 1/2\n",
        "sol = odeint(model, y0, t)\n",
        "\n",
        "print(sol)"
      ],
      "metadata": {
        "colab": {
          "base_uri": "https://localhost:8080/"
        },
        "id": "H26DKJSna-74",
        "outputId": "26b94f59-dd7f-48a7-9273-fef10d15b9cf"
      },
      "execution_count": 53,
      "outputs": [
        {
          "output_type": "stream",
          "name": "stdout",
          "text": [
            "[[0.5       ]\n",
            " [0.49777996]\n",
            " [0.49561833]\n",
            " ...\n",
            " [0.34484898]\n",
            " [0.34483825]\n",
            " [0.34482753]]\n"
          ]
        }
      ]
    },
    {
      "cell_type": "markdown",
      "source": [
        "**Plot and svg export**"
      ],
      "metadata": {
        "id": "kd51sdbXimZG"
      }
    },
    {
      "cell_type": "code",
      "source": [
        "# plot\n",
        "#plt.figure(figsize=(11,9))\n",
        "plt.plot(t,sol, label=\"y\")\n",
        "plt.legend()\n",
        "\n",
        "# Save in svg format\n",
        "plt.savefig(\"ode_num-1.svg\")\n",
        "plt.show()"
      ],
      "metadata": {
        "colab": {
          "base_uri": "https://localhost:8080/",
          "height": 265
        },
        "id": "S5sC_ktMbB_A",
        "outputId": "cbc26a7c-d9ef-4117-d627-605bd1155b82"
      },
      "execution_count": 54,
      "outputs": [
        {
          "output_type": "display_data",
          "data": {
            "text/plain": [
              "<Figure size 432x288 with 1 Axes>"
            ],
            "image/png": "[encoded data removed]"
          },
          "metadata": {
            "needs_background": "light"
          }
        }
      ]
    },
    {
      "cell_type": "markdown",
      "source": [
        "***ASSIGNMENT***"
      ],
      "metadata": {
        "id": "BG0vyngKpzwT"
      }
    },
    {
      "cell_type": "markdown",
      "source": [
        "**QUESTION1:**\n",
        "Solve the differential equation \n",
        "$y\n",
        "′\n",
        "=\n",
        "2\n",
        "t\n",
        "(\n",
        "25\n",
        "−\n",
        "y\n",
        ")$\n",
        "."
      ],
      "metadata": {
        "id": "ouFDGPtvqbNy"
      }
    },
    {
      "cell_type": "markdown",
      "source": [
        "**QUESTION2:** Solve the initial value problem:\n",
        "$d\n",
        "y/\n",
        "d\n",
        "x\n",
        "=\n",
        "2\n",
        "x\n",
        ",\n",
        "y\n",
        "(\n",
        "0\n",
        ")\n",
        "=\n",
        "2$\n",
        "."
      ],
      "metadata": {
        "id": "nXKJiu-RrCtp"
      }
    },
    {
      "cell_type": "markdown",
      "source": [
        "**QUESTION3:**\n",
        "Consider the equation of a freely falling object\n",
        "$dv/\n",
        "dt\n",
        "= g – bv^2$\n",
        "1. Solve the differential equation where Take $b = 1$ and $g = 10$\n",
        "2. Plot $v$ vs $t$\n",
        "3. Plot $b$ vs $t$ in different values of $b$, i.e $b = 1,$ $b = 2,$ $b = 3$, $b = -4$, and $b = -2$."
      ],
      "metadata": {
        "id": "prcd1kiurmAx"
      }
    },
    {
      "cell_type": "code",
      "source": [
        "#TASK1\n",
        "import sympy as sy\n",
        "sy.init_printing()\n",
        "from sympy.plotting import plot\n",
        "t = sy.symbols('t')\n",
        "y = sy.Function('y')\n",
        "y1 = sy.Derivative(y(t), t)\n",
        "eqdiff = y1 - 2*t*(25-y(t))\n",
        "sol = sy.dsolve(eqdiff, y(t))\n",
        "sy.pprint(sol)"
      ],
      "metadata": {
        "id": "pLwGTyj8cIhY",
        "outputId": "e1cb88f9-9a59-4d3f-e67c-0ae06c1531c1",
        "colab": {
          "base_uri": "https://localhost:8080/"
        }
      },
      "execution_count": 55,
      "outputs": [
        {
          "output_type": "stream",
          "name": "stdout",
          "text": [
            "             2     \n",
            "           -t      \n",
            "y(t) = C₁⋅ℯ    + 25\n"
          ]
        }
      ]
    },
    {
      "cell_type": "code",
      "source": [
        "#TASK2\n",
        "import sympy as sy\n",
        "sy.init_printing()\n",
        "from sympy.plotting import plot\n",
        "x = sy.symbols('x')\n",
        "y = sy.Function('y')\n",
        "y1 = sy.Derivative(y(x), x)\n",
        "eqdiff = y1 - 2*x\n",
        "sol = sy.dsolve(eqdiff, y(x))\n",
        "sy.pprint(sol)\n",
        "sol = sy.dsolve(eqdiff, y(x),ics={y(0): '2'})\n",
        "sy.pprint(sol)"
      ],
      "metadata": {
        "id": "OXkpQPlScKtq",
        "outputId": "5cafb4df-00c7-44b9-8129-beb013707c3b",
        "colab": {
          "base_uri": "https://localhost:8080/"
        }
      },
      "execution_count": 56,
      "outputs": [
        {
          "output_type": "stream",
          "name": "stdout",
          "text": [
            "             2\n",
            "y(x) = C₁ + x \n",
            "        2    \n",
            "y(x) = x  + 2\n"
          ]
        }
      ]
    },
    {
      "cell_type": "code",
      "source": [
        "#TASK3\n",
        "#1\n",
        "import sympy as sy\n",
        "sy.init_printing()\n",
        "from sympy.plotting import plot\n",
        "t = sy.symbols('t')\n",
        "v = sy.Function('v')\n",
        "g = sy.symbols('g')\n",
        "y1 = sy.Derivative(v(t), t)\n",
        "b,g=1,10\n",
        "eqdiff = y1 -g+b*v(t)**2\n",
        "sol = sy.dsolve(eqdiff, v(t))\n",
        "sy.pprint(sol)"
      ],
      "metadata": {
        "id": "IE3PdwPHcKrU",
        "outputId": "27407402-d8f8-407b-f2e1-88a646fc4ec0",
        "colab": {
          "base_uri": "https://localhost:8080/"
        }
      },
      "execution_count": 57,
      "outputs": [
        {
          "output_type": "stream",
          "name": "stdout",
          "text": [
            "            -√10       \n",
            "v(t) = ────────────────\n",
            "       tanh(C₁ - √10⋅t)\n"
          ]
        }
      ]
    },
    {
      "cell_type": "code",
      "source": [
        "#task3\n",
        "#2\n",
        "import numpy as np\n",
        "import matplotlib.pyplot as plt\n",
        "from scipy.integrate import odeint\n",
        "def model(v, t):\n",
        "    dvdt = 10-v**2\n",
        "    return dvdt\n",
        "t = np.linspace(1, 10, 1001)\n",
        "y1 = 0\n",
        "sol = odeint(model, y1, t)\n",
        "plt.plot(t,sol, label = 'y')\n",
        "plt.legend()\n",
        "plt.savefig('ode_num-1.svg')\n",
        "plt.show()"
      ],
      "metadata": {
        "id": "-4rktGUpcKnN",
        "outputId": "45eeb8fc-9c61-4180-ae71-d8bd34c8476b",
        "colab": {
          "base_uri": "https://localhost:8080/",
          "height": 265
        }
      },
      "execution_count": 58,
      "outputs": [
        {
          "output_type": "display_data",
          "data": {
            "text/plain": [
              "<Figure size 432x288 with 1 Axes>"
            ],
            "image/png": "[encoded data removed]"
          },
          "metadata": {
            "needs_background": "light"
          }
        }
      ]
    },
    {
      "cell_type": "code",
      "source": [
        "#task3\n",
        "#3\n",
        "import numpy as np\n",
        "import matplotlib.pyplot as plt\n",
        "from scipy.integrate import odeint\n",
        "l1 = [-4,-2,1,2,3]\n",
        "for i in l1:\n",
        "  def model(v, t):\n",
        "      dvdt = 10-(i*(v**2))\n",
        "      return dvdt\n",
        "t = np.linspace(1, 10, 1001)\n",
        "y1 = 0\n",
        "sol = odeint(model, y1, t)\n",
        "plt.plot(t,sol, label = 'y')\n",
        "plt.legend()\n",
        "plt.savefig('ode_num-1.svg')\n",
        "plt.show()"
      ],
      "metadata": {
        "id": "hfeToCTncKbN",
        "outputId": "ed4773e1-10b0-4168-c875-140a572bf791",
        "colab": {
          "base_uri": "https://localhost:8080/",
          "height": 265
        }
      },
      "execution_count": 59,
      "outputs": [
        {
          "output_type": "display_data",
          "data": {
            "text/plain": [
              "<Figure size 432x288 with 1 Axes>"
            ],
            "image/png": "[encoded data removed]"
          },
          "metadata": {
            "needs_background": "light"
          }
        }
      ]
    },
    {
      "cell_type": "code",
      "source": [
        ""
      ],
      "metadata": {
        "id": "UPCmaTWVcKPM"
      },
      "execution_count": 59,
      "outputs": []
    }
  ]
}