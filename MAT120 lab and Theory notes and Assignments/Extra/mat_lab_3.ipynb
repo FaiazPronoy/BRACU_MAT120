{
  "nbformat": 4,
  "nbformat_minor": 0,
  "metadata": {
    "colab": {
      "name": "mat lab 3.ipynb",
      "provenance": []
    },
    "kernelspec": {
      "name": "python3",
      "display_name": "Python 3"
    },
    "language_info": {
      "name": "python"
    }
  },
  "cells": [
    {
      "cell_type": "code",
      "execution_count": 2,
      "metadata": {
        "colab": {
          "base_uri": "https://localhost:8080/",
          "height": 127
        },
        "id": "rZmDhW2n4gAj",
        "outputId": "8ff38574-bf25-4c5c-dfbf-30df9e4b5dde"
      },
      "outputs": [
        {
          "output_type": "execute_result",
          "data": {
            "text/plain": [
              "Piecewise((0, Eq(a, 0) & Eq(b, 0)), (-I*(x*exp(-b*x)*sinh(b*x)/2 + x*exp(-b*x)*cosh(b*x)/2 - exp(-b*x)*sinh(b*x)/(2*b)), Eq(a, -I*b)), (I*(x*exp(-b*x)*sinh(b*x)/2 + x*exp(-b*x)*cosh(b*x)/2 - exp(-b*x)*sinh(b*x)/(2*b)), Eq(a, I*b)), (-a*cos(a*x)/(a**2*exp(b*x) + b**2*exp(b*x)) - b*sin(a*x)/(a**2*exp(b*x) + b**2*exp(b*x)), True))"
            ],
            "text/latex": "$\\displaystyle \\begin{cases} 0 & \\text{for}\\: a = 0 \\wedge b = 0 \\\\- i \\left(\\frac{x e^{- b x} \\sinh{\\left(b x \\right)}}{2} + \\frac{x e^{- b x} \\cosh{\\left(b x \\right)}}{2} - \\frac{e^{- b x} \\sinh{\\left(b x \\right)}}{2 b}\\right) & \\text{for}\\: a = - i b \\\\i \\left(\\frac{x e^{- b x} \\sinh{\\left(b x \\right)}}{2} + \\frac{x e^{- b x} \\cosh{\\left(b x \\right)}}{2} - \\frac{e^{- b x} \\sinh{\\left(b x \\right)}}{2 b}\\right) & \\text{for}\\: a = i b \\\\- \\frac{a \\cos{\\left(a x \\right)}}{a^{2} e^{b x} + b^{2} e^{b x}} - \\frac{b \\sin{\\left(a x \\right)}}{a^{2} e^{b x} + b^{2} e^{b x}} & \\text{otherwise} \\end{cases}$"
          },
          "metadata": {},
          "execution_count": 2
        }
      ],
      "source": [
        "#1\n",
        "import sympy as smp\n",
        "import numpy as np\n",
        "import scipy as sp\n",
        "from mpmath import *\n",
        "from sympy import*\n",
        "from scipy.integrate import quad\n",
        "x,a,b = smp.symbols(\"x,a,b\")\n",
        "f = smp.sin(a*x)*smp.exp(-b*x)\n",
        "smp.integrate(f, x)"
      ]
    },
    {
      "cell_type": "code",
      "source": [
        "#2\n",
        "x = smp.symbols(\"x\")\n",
        "f= smp.sin(2*x)**(-1)/(1+x**2)\n",
        "smp.integrate(f, (x, 0,inf)).evalf()"
      ],
      "metadata": {
        "colab": {
          "base_uri": "https://localhost:8080/",
          "height": 37
        },
        "id": "iBhFQ_P64r8J",
        "outputId": "8b8ef622-76fd-42bd-ab18-a392fbe6c88f"
      },
      "execution_count": 3,
      "outputs": [
        {
          "output_type": "execute_result",
          "data": {
            "text/plain": [
              "0.e+2"
            ],
            "text/latex": "$\\displaystyle 1.0 \\cdot 10^{2}$"
          },
          "metadata": {},
          "execution_count": 3
        }
      ]
    },
    {
      "cell_type": "code",
      "source": [
        "#3\n",
        "x,a,b,n = smp.symbols(\"x,a,b,n\")\n",
        "n=2*3.1416\n",
        "f=((a-cos(x))**2+(b-sin(x))**2)**-1\n",
        "smp.integrate(f, (x, 0, n))"
      ],
      "metadata": {
        "id": "exI2gpV44wyp"
      },
      "execution_count": null,
      "outputs": []
    },
    {
      "cell_type": "code",
      "source": [
        "#4\n",
        "x = smp.symbols(\"x\")\n",
        "f=(cos(2*x)**-1)/(1+x**2)\n",
        "smp.integrate(f, (x, 0,np.inf)).evalf()"
      ],
      "metadata": {
        "id": "JwaF1y-A41lY"
      },
      "execution_count": null,
      "outputs": []
    },
    {
      "cell_type": "code",
      "source": [
        "x = smp.symbols(\"x\")\n",
        "f= x*smp.exp(6*x)\n",
        "smp.integrate(f,(x,-1,2))"
      ],
      "metadata": {
        "id": "wh-LWOds452N"
      },
      "execution_count": null,
      "outputs": []
    }
  ]
}